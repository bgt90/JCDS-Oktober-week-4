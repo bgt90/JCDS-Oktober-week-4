{
 "cells": [
  {
   "cell_type": "markdown",
   "metadata": {},
   "source": [
    "# Imbalance Classification"
   ]
  },
  {
   "cell_type": "code",
   "execution_count": 1,
   "metadata": {
    "ExecuteTime": {
     "end_time": "2022-01-18T02:44:08.870384Z",
     "start_time": "2022-01-18T02:44:07.478876Z"
    }
   },
   "outputs": [],
   "source": [
    "import pandas as pd\n",
    "import numpy as np\n",
    "\n",
    "import seaborn as sns\n",
    "import matplotlib.pyplot as plt\n",
    "\n",
    "from sklearn.preprocessing import PolynomialFeatures\n",
    "from sklearn.model_selection import train_test_split\n",
    "\n",
    "from sklearn.linear_model import LogisticRegression\n",
    "from sklearn.metrics import classification_report\n",
    "from sklearn.pipeline import Pipeline"
   ]
  },
  {
   "cell_type": "markdown",
   "metadata": {},
   "source": [
    "## Feature Engineering"
   ]
  },
  {
   "cell_type": "code",
   "execution_count": 2,
   "metadata": {
    "ExecuteTime": {
     "end_time": "2022-01-18T02:44:08.918227Z",
     "start_time": "2022-01-18T02:44:08.871377Z"
    }
   },
   "outputs": [
    {
     "data": {
      "text/html": [
       "<div>\n",
       "<style scoped>\n",
       "    .dataframe tbody tr th:only-of-type {\n",
       "        vertical-align: middle;\n",
       "    }\n",
       "\n",
       "    .dataframe tbody tr th {\n",
       "        vertical-align: top;\n",
       "    }\n",
       "\n",
       "    .dataframe thead th {\n",
       "        text-align: right;\n",
       "    }\n",
       "</style>\n",
       "<table border=\"1\" class=\"dataframe\">\n",
       "  <thead>\n",
       "    <tr style=\"text-align: right;\">\n",
       "      <th></th>\n",
       "      <th>fixed acidity</th>\n",
       "      <th>volatile acidity</th>\n",
       "      <th>citric acid</th>\n",
       "      <th>residual sugar</th>\n",
       "      <th>chlorides</th>\n",
       "      <th>free sulfur dioxide</th>\n",
       "      <th>total sulfur dioxide</th>\n",
       "      <th>density</th>\n",
       "      <th>pH</th>\n",
       "      <th>sulphates</th>\n",
       "      <th>alcohol</th>\n",
       "      <th>quality</th>\n",
       "    </tr>\n",
       "  </thead>\n",
       "  <tbody>\n",
       "    <tr>\n",
       "      <th>0</th>\n",
       "      <td>7.0</td>\n",
       "      <td>0.27</td>\n",
       "      <td>0.36</td>\n",
       "      <td>20.7</td>\n",
       "      <td>0.045</td>\n",
       "      <td>45.0</td>\n",
       "      <td>170.0</td>\n",
       "      <td>1.0010</td>\n",
       "      <td>3.00</td>\n",
       "      <td>0.45</td>\n",
       "      <td>8.8</td>\n",
       "      <td>6.0</td>\n",
       "    </tr>\n",
       "    <tr>\n",
       "      <th>1</th>\n",
       "      <td>6.3</td>\n",
       "      <td>0.30</td>\n",
       "      <td>0.34</td>\n",
       "      <td>1.6</td>\n",
       "      <td>0.049</td>\n",
       "      <td>14.0</td>\n",
       "      <td>132.0</td>\n",
       "      <td>0.9940</td>\n",
       "      <td>3.30</td>\n",
       "      <td>0.49</td>\n",
       "      <td>9.5</td>\n",
       "      <td>6.0</td>\n",
       "    </tr>\n",
       "    <tr>\n",
       "      <th>2</th>\n",
       "      <td>8.1</td>\n",
       "      <td>0.28</td>\n",
       "      <td>0.40</td>\n",
       "      <td>6.9</td>\n",
       "      <td>0.050</td>\n",
       "      <td>30.0</td>\n",
       "      <td>97.0</td>\n",
       "      <td>0.9951</td>\n",
       "      <td>3.26</td>\n",
       "      <td>0.44</td>\n",
       "      <td>10.1</td>\n",
       "      <td>6.0</td>\n",
       "    </tr>\n",
       "    <tr>\n",
       "      <th>3</th>\n",
       "      <td>7.2</td>\n",
       "      <td>0.23</td>\n",
       "      <td>0.32</td>\n",
       "      <td>8.5</td>\n",
       "      <td>0.058</td>\n",
       "      <td>47.0</td>\n",
       "      <td>186.0</td>\n",
       "      <td>0.9956</td>\n",
       "      <td>3.19</td>\n",
       "      <td>0.40</td>\n",
       "      <td>9.9</td>\n",
       "      <td>6.0</td>\n",
       "    </tr>\n",
       "    <tr>\n",
       "      <th>4</th>\n",
       "      <td>7.2</td>\n",
       "      <td>0.23</td>\n",
       "      <td>0.32</td>\n",
       "      <td>8.5</td>\n",
       "      <td>0.058</td>\n",
       "      <td>47.0</td>\n",
       "      <td>186.0</td>\n",
       "      <td>0.9956</td>\n",
       "      <td>3.19</td>\n",
       "      <td>0.40</td>\n",
       "      <td>9.9</td>\n",
       "      <td>6.0</td>\n",
       "    </tr>\n",
       "  </tbody>\n",
       "</table>\n",
       "</div>"
      ],
      "text/plain": [
       "   fixed acidity  volatile acidity  citric acid  residual sugar  chlorides  \\\n",
       "0            7.0              0.27         0.36            20.7      0.045   \n",
       "1            6.3              0.30         0.34             1.6      0.049   \n",
       "2            8.1              0.28         0.40             6.9      0.050   \n",
       "3            7.2              0.23         0.32             8.5      0.058   \n",
       "4            7.2              0.23         0.32             8.5      0.058   \n",
       "\n",
       "   free sulfur dioxide  total sulfur dioxide  density    pH  sulphates  \\\n",
       "0                 45.0                 170.0   1.0010  3.00       0.45   \n",
       "1                 14.0                 132.0   0.9940  3.30       0.49   \n",
       "2                 30.0                  97.0   0.9951  3.26       0.44   \n",
       "3                 47.0                 186.0   0.9956  3.19       0.40   \n",
       "4                 47.0                 186.0   0.9956  3.19       0.40   \n",
       "\n",
       "   alcohol  quality  \n",
       "0      8.8      6.0  \n",
       "1      9.5      6.0  \n",
       "2     10.1      6.0  \n",
       "3      9.9      6.0  \n",
       "4      9.9      6.0  "
      ]
     },
     "execution_count": 2,
     "metadata": {},
     "output_type": "execute_result"
    }
   ],
   "source": [
    "wine= pd.read_csv('white_wine.csv')\n",
    "wine.head()"
   ]
  },
  {
   "cell_type": "code",
   "execution_count": 3,
   "metadata": {
    "ExecuteTime": {
     "end_time": "2022-01-18T02:44:08.934210Z",
     "start_time": "2022-01-18T02:44:08.922219Z"
    }
   },
   "outputs": [],
   "source": [
    "# eda\n",
    "# target data: quality, di mana quality > 6, maka good wine (1), sisanya bad wine (0)"
   ]
  },
  {
   "cell_type": "code",
   "execution_count": 4,
   "metadata": {
    "ExecuteTime": {
     "end_time": "2022-01-18T02:44:08.995022Z",
     "start_time": "2022-01-18T02:44:08.936195Z"
    }
   },
   "outputs": [
    {
     "data": {
      "text/plain": [
       "0    81.153846\n",
       "1    18.846154\n",
       "Name: label, dtype: float64"
      ]
     },
     "execution_count": 4,
     "metadata": {},
     "output_type": "execute_result"
    }
   ],
   "source": [
    "wine['label']= np.where(wine['quality']>6,1,0)\n",
    "wine['label'].value_counts()/wine.shape[0]*100\n",
    "# bisa dilihat data kita imbalance, dengan kelas 0: kelas 1 kurang lebih 4:1"
   ]
  },
  {
   "cell_type": "code",
   "execution_count": 5,
   "metadata": {
    "ExecuteTime": {
     "end_time": "2022-01-18T02:44:09.010979Z",
     "start_time": "2022-01-18T02:44:08.997018Z"
    }
   },
   "outputs": [
    {
     "data": {
      "text/plain": [
       "fixed acidity           0\n",
       "volatile acidity        0\n",
       "citric acid             0\n",
       "residual sugar          0\n",
       "chlorides               0\n",
       "free sulfur dioxide     0\n",
       "total sulfur dioxide    0\n",
       "density                 0\n",
       "pH                      1\n",
       "sulphates               1\n",
       "alcohol                 1\n",
       "quality                 1\n",
       "label                   0\n",
       "dtype: int64"
      ]
     },
     "execution_count": 5,
     "metadata": {},
     "output_type": "execute_result"
    }
   ],
   "source": [
    "wine.isna().sum()\n",
    "# feature yang dipakai adalah density dan alcohol, kita bisa mengisi missing value pada alcohol dengan fillna"
   ]
  },
  {
   "cell_type": "code",
   "execution_count": 6,
   "metadata": {
    "ExecuteTime": {
     "end_time": "2022-01-18T02:44:09.025940Z",
     "start_time": "2022-01-18T02:44:09.013973Z"
    }
   },
   "outputs": [],
   "source": [
    "wine['alcohol']=wine['alcohol'].fillna(wine['alcohol'].mean())"
   ]
  },
  {
   "cell_type": "markdown",
   "metadata": {},
   "source": [
    "Mari kita lihat, apakah kedua fitur yang kita pakai, alcohol dan density, mampu memisahkan good wine dari bad wine menggunakan scatter plot."
   ]
  },
  {
   "cell_type": "code",
   "execution_count": 7,
   "metadata": {
    "ExecuteTime": {
     "end_time": "2022-01-18T02:44:09.228414Z",
     "start_time": "2022-01-18T02:44:09.031968Z"
    }
   },
   "outputs": [
    {
     "data": {
      "text/plain": [
       "<matplotlib.axes._subplots.AxesSubplot at 0x2b648889400>"
      ]
     },
     "execution_count": 7,
     "metadata": {},
     "output_type": "execute_result"
    },
    {
     "data": {
      "image/png": "[encoded data removed]",
      "text/plain": [
       "<Figure size 720x720 with 1 Axes>"
      ]
     },
     "metadata": {
      "needs_background": "light"
     },
     "output_type": "display_data"
    }
   ],
   "source": [
    "plt.figure(figsize=(10,10))\n",
    "sns.scatterplot(x='alcohol',y='density', data=wine, hue='label')"
   ]
  },
  {
   "cell_type": "markdown",
   "metadata": {},
   "source": [
    "Secara umum, good wine memiliki nilai alkohol dan density yang lebih tinggi dibanding bad wine"
   ]
  },
  {
   "cell_type": "code",
   "execution_count": 8,
   "metadata": {
    "ExecuteTime": {
     "end_time": "2022-01-18T02:44:09.244356Z",
     "start_time": "2022-01-18T02:44:09.231406Z"
    }
   },
   "outputs": [],
   "source": [
    "# Splitting data\n",
    "x=wine[['alcohol','density']]\n",
    "y=wine['label']"
   ]
  },
  {
   "cell_type": "code",
   "execution_count": 9,
   "metadata": {
    "ExecuteTime": {
     "end_time": "2022-01-18T02:44:09.260314Z",
     "start_time": "2022-01-18T02:44:09.248353Z"
    }
   },
   "outputs": [],
   "source": [
    "x_train,x_test, y_train, y_test= train_test_split(x,y, stratify=y, random_state=2020)"
   ]
  },
  {
   "cell_type": "markdown",
   "metadata": {},
   "source": [
    "### Model without Polynomial"
   ]
  },
  {
   "cell_type": "code",
   "execution_count": 10,
   "metadata": {
    "ExecuteTime": {
     "end_time": "2022-01-18T02:44:09.308186Z",
     "start_time": "2022-01-18T02:44:09.263306Z"
    }
   },
   "outputs": [
    {
     "name": "stdout",
     "output_type": "stream",
     "text": [
      "              precision    recall  f1-score   support\n",
      "\n",
      "           0       0.87      0.96      0.91       106\n",
      "           1       0.69      0.38      0.49        24\n",
      "\n",
      "    accuracy                           0.85       130\n",
      "   macro avg       0.78      0.67      0.70       130\n",
      "weighted avg       0.84      0.85      0.84       130\n",
      "\n"
     ]
    }
   ],
   "source": [
    "logreg= LogisticRegression()\n",
    "logreg.fit(x_train,y_train)\n",
    "y_pred= logreg.predict(x_test)\n",
    "print(classification_report(y_test,y_pred))"
   ]
  },
  {
   "cell_type": "markdown",
   "metadata": {},
   "source": [
    "### With Polynomial"
   ]
  },
  {
   "cell_type": "code",
   "execution_count": 11,
   "metadata": {
    "ExecuteTime": {
     "end_time": "2022-01-18T02:44:09.324145Z",
     "start_time": "2022-01-18T02:44:09.311177Z"
    }
   },
   "outputs": [],
   "source": [
    "poly= PolynomialFeatures(degree=3, interaction_only=False, include_bias=False)\n",
    "logreg= LogisticRegression(max_iter=1000)\n",
    "estimator= Pipeline([\n",
    "    ('poly', poly),\n",
    "    ('model',logreg)\n",
    "])"
   ]
  },
  {
   "cell_type": "code",
   "execution_count": 12,
   "metadata": {
    "ExecuteTime": {
     "end_time": "2022-01-18T02:44:09.418889Z",
     "start_time": "2022-01-18T02:44:09.329129Z"
    }
   },
   "outputs": [
    {
     "name": "stdout",
     "output_type": "stream",
     "text": [
      "              precision    recall  f1-score   support\n",
      "\n",
      "           0       0.97      0.99      0.98       106\n",
      "           1       0.95      0.88      0.91        24\n",
      "\n",
      "    accuracy                           0.97       130\n",
      "   macro avg       0.96      0.93      0.95       130\n",
      "weighted avg       0.97      0.97      0.97       130\n",
      "\n"
     ]
    }
   ],
   "source": [
    "estimator.fit(x_train,y_train)\n",
    "y_pred=estimator.predict(x_test)\n",
    "print(classification_report(y_test,y_pred))"
   ]
  },
  {
   "cell_type": "markdown",
   "metadata": {},
   "source": [
    "bisa dilihat, pada kasus white wine ini, penggunaan feature engineering polynomial mampu meningkatkan performa model dari:\n",
    "* precision 0.69 --> 0.95\n",
    "* recall 0.38 -->0.88\n",
    "* f1 score 0.49 --> 0.91\n",
    "* accuracy 0.85 --> 0.97"
   ]
  },
  {
   "cell_type": "markdown",
   "metadata": {},
   "source": [
    "## Resampling"
   ]
  },
  {
   "cell_type": "code",
   "execution_count": 13,
   "metadata": {
    "ExecuteTime": {
     "end_time": "2022-01-18T02:44:09.435852Z",
     "start_time": "2022-01-18T02:44:09.420884Z"
    }
   },
   "outputs": [],
   "source": [
    "# !pip install imblearn"
   ]
  },
  {
   "cell_type": "code",
   "execution_count": 14,
   "metadata": {
    "ExecuteTime": {
     "end_time": "2022-01-18T02:44:09.715127Z",
     "start_time": "2022-01-18T02:44:09.441829Z"
    }
   },
   "outputs": [],
   "source": [
    "from imblearn.over_sampling import RandomOverSampler, SMOTE\n",
    "from imblearn.under_sampling import RandomUnderSampler, NearMiss\n",
    "\n",
    "from sklearn.metrics import roc_auc_score, plot_roc_curve, roc_curve, f1_score\n",
    "\n",
    "from imblearn.pipeline import Pipeline # perhatikan librarynya"
   ]
  },
  {
   "cell_type": "markdown",
   "metadata": {},
   "source": [
    "### Data"
   ]
  },
  {
   "cell_type": "code",
   "execution_count": 15,
   "metadata": {
    "ExecuteTime": {
     "end_time": "2022-01-18T02:44:09.746038Z",
     "start_time": "2022-01-18T02:44:09.717140Z"
    }
   },
   "outputs": [],
   "source": [
    "data= pd.read_csv('bankloan.csv')"
   ]
  },
  {
   "cell_type": "markdown",
   "metadata": {},
   "source": [
    "### EDA"
   ]
  },
  {
   "cell_type": "code",
   "execution_count": 16,
   "metadata": {
    "ExecuteTime": {
     "end_time": "2022-01-18T02:44:09.762018Z",
     "start_time": "2022-01-18T02:44:09.749023Z"
    }
   },
   "outputs": [
    {
     "data": {
      "text/plain": [
       "0    0.738571\n",
       "1    0.261429\n",
       "Name: default, dtype: float64"
      ]
     },
     "execution_count": 16,
     "metadata": {},
     "output_type": "execute_result"
    }
   ],
   "source": [
    "data['default'].value_counts()/data.shape[0]\n",
    "# data imbalance, dengan perbandingkan kelas 0 dan kelas 1, 3:1"
   ]
  },
  {
   "cell_type": "markdown",
   "metadata": {},
   "source": [
    "# Splitting data"
   ]
  },
  {
   "cell_type": "code",
   "execution_count": 17,
   "metadata": {
    "ExecuteTime": {
     "end_time": "2022-01-18T02:44:09.776961Z",
     "start_time": "2022-01-18T02:44:09.763016Z"
    }
   },
   "outputs": [],
   "source": [
    "x=data[['employ','debtinc','creddebt','othdebt']]\n",
    "y= data['default']"
   ]
  },
  {
   "cell_type": "code",
   "execution_count": 18,
   "metadata": {
    "ExecuteTime": {
     "end_time": "2022-01-18T02:44:09.792904Z",
     "start_time": "2022-01-18T02:44:09.779939Z"
    }
   },
   "outputs": [],
   "source": [
    "x_train,x_test,y_train,y_test= train_test_split(x,y, stratify=y, test_size=0.2, random_state=2020)"
   ]
  },
  {
   "cell_type": "markdown",
   "metadata": {},
   "source": [
    "### Model Without Treatment"
   ]
  },
  {
   "cell_type": "code",
   "execution_count": 19,
   "metadata": {
    "ExecuteTime": {
     "end_time": "2022-01-18T02:44:09.839779Z",
     "start_time": "2022-01-18T02:44:09.794931Z"
    }
   },
   "outputs": [
    {
     "data": {
      "text/plain": [
       "LogisticRegression()"
      ]
     },
     "execution_count": 19,
     "metadata": {},
     "output_type": "execute_result"
    }
   ],
   "source": [
    "model= LogisticRegression()\n",
    "model.fit(x_train,y_train)"
   ]
  },
  {
   "cell_type": "code",
   "execution_count": 20,
   "metadata": {
    "ExecuteTime": {
     "end_time": "2022-01-18T02:44:09.870701Z",
     "start_time": "2022-01-18T02:44:09.841773Z"
    }
   },
   "outputs": [
    {
     "name": "stdout",
     "output_type": "stream",
     "text": [
      "              precision    recall  f1-score   support\n",
      "\n",
      "           0       0.83      0.95      0.89       103\n",
      "           1       0.77      0.46      0.58        37\n",
      "\n",
      "    accuracy                           0.82       140\n",
      "   macro avg       0.80      0.71      0.73       140\n",
      "weighted avg       0.82      0.82      0.80       140\n",
      "\n"
     ]
    }
   ],
   "source": [
    "y_pred= model.predict(x_test)\n",
    "print(classification_report(y_test,y_pred))"
   ]
  },
  {
   "cell_type": "markdown",
   "metadata": {
    "ExecuteTime": {
     "end_time": "2022-01-17T04:32:50.238320Z",
     "start_time": "2022-01-17T04:32:50.228346Z"
    }
   },
   "source": [
    "### Model with Resampling: RandomUndersampling"
   ]
  },
  {
   "cell_type": "code",
   "execution_count": 21,
   "metadata": {
    "ExecuteTime": {
     "end_time": "2022-01-18T02:44:09.901614Z",
     "start_time": "2022-01-18T02:44:09.872693Z"
    }
   },
   "outputs": [],
   "source": [
    "rus= RandomUnderSampler(random_state=2020)#agar output kita sama\n",
    "# undersampling tanpa pipeline\n",
    "x_under, y_under=rus.fit_resample(x_train,y_train) #library imblearn memakai method resample, bukan transform"
   ]
  },
  {
   "cell_type": "code",
   "execution_count": 22,
   "metadata": {
    "ExecuteTime": {
     "end_time": "2022-01-18T02:44:09.917612Z",
     "start_time": "2022-01-18T02:44:09.903608Z"
    }
   },
   "outputs": [
    {
     "data": {
      "text/plain": [
       "0    414\n",
       "1    146\n",
       "Name: default, dtype: int64"
      ]
     },
     "execution_count": 22,
     "metadata": {},
     "output_type": "execute_result"
    }
   ],
   "source": [
    "y_train.value_counts() # sebelum resample"
   ]
  },
  {
   "cell_type": "code",
   "execution_count": 23,
   "metadata": {
    "ExecuteTime": {
     "end_time": "2022-01-18T02:44:09.933534Z",
     "start_time": "2022-01-18T02:44:09.919569Z"
    }
   },
   "outputs": [
    {
     "data": {
      "text/plain": [
       "1    146\n",
       "0    146\n",
       "Name: default, dtype: int64"
      ]
     },
     "execution_count": 23,
     "metadata": {},
     "output_type": "execute_result"
    }
   ],
   "source": [
    "y_under.value_counts() #setelah resample, jumlah data kelas 0 mengikuti jumlah data kelas 1"
   ]
  },
  {
   "cell_type": "code",
   "execution_count": 24,
   "metadata": {
    "ExecuteTime": {
     "end_time": "2022-01-18T02:44:09.949502Z",
     "start_time": "2022-01-18T02:44:09.934530Z"
    }
   },
   "outputs": [],
   "source": [
    "model_under= Pipeline([\n",
    "    ('resampling',rus),\n",
    "    ('model', LogisticRegression())\n",
    "])"
   ]
  },
  {
   "cell_type": "code",
   "execution_count": 25,
   "metadata": {
    "ExecuteTime": {
     "end_time": "2022-01-18T02:44:09.980407Z",
     "start_time": "2022-01-18T02:44:09.951485Z"
    }
   },
   "outputs": [
    {
     "name": "stdout",
     "output_type": "stream",
     "text": [
      "              precision    recall  f1-score   support\n",
      "\n",
      "           0       0.95      0.68      0.79       103\n",
      "           1       0.50      0.89      0.64        37\n",
      "\n",
      "    accuracy                           0.74       140\n",
      "   macro avg       0.72      0.79      0.72       140\n",
      "weighted avg       0.83      0.74      0.75       140\n",
      "\n"
     ]
    }
   ],
   "source": [
    "model_under.fit(x_train,y_train)\n",
    "y_pred= model_under.predict(x_test)\n",
    "print(classification_report(y_test,y_pred))"
   ]
  },
  {
   "cell_type": "markdown",
   "metadata": {},
   "source": [
    "Perhatikan, dengan pemakaian random undersampling pada data bankloan, maka terjadi perubahan hasil evaluasi:\n",
    "* precision: 0.77 --> 0.50\n",
    "* recall: 0.46 --> 0.89\n",
    "* f1 score: 0.58--> 0.64 \n",
    "* accuracy: 0.82 --> 0.74\n",
    "\n",
    "kita perlu menentukan metrik evaluasi yang kita pakai di awal untuk memutuskan apakah metode ini sesuai dengan keperluan bisnis kita."
   ]
  },
  {
   "cell_type": "markdown",
   "metadata": {},
   "source": [
    "### Algorithm based: Model with Parameter Class Weight"
   ]
  },
  {
   "cell_type": "code",
   "execution_count": 26,
   "metadata": {
    "ExecuteTime": {
     "end_time": "2022-01-18T02:44:10.011376Z",
     "start_time": "2022-01-18T02:44:09.982401Z"
    }
   },
   "outputs": [
    {
     "name": "stdout",
     "output_type": "stream",
     "text": [
      "              precision    recall  f1-score   support\n",
      "\n",
      "           0       0.92      0.68      0.78       103\n",
      "           1       0.48      0.84      0.61        37\n",
      "\n",
      "    accuracy                           0.72       140\n",
      "   macro avg       0.70      0.76      0.70       140\n",
      "weighted avg       0.81      0.72      0.74       140\n",
      "\n"
     ]
    }
   ],
   "source": [
    "model_balanced= LogisticRegression(class_weight='balanced') #untuk memberi berat lebih pada kelas minoritas\n",
    "model_balanced.fit(x_train,y_train)\n",
    "y_pred=model_balanced.predict(x_test)\n",
    "print(classification_report(y_test,y_pred))"
   ]
  },
  {
   "cell_type": "markdown",
   "metadata": {},
   "source": [
    "## Summary"
   ]
  },
  {
   "cell_type": "code",
   "execution_count": 27,
   "metadata": {
    "ExecuteTime": {
     "end_time": "2022-01-18T02:44:10.043070Z",
     "start_time": "2022-01-18T02:44:10.016347Z"
    }
   },
   "outputs": [],
   "source": [
    "models=[model, model_under, model_balanced]\n",
    "f1=[]\n",
    "for i in models:\n",
    "    f1.append(f1_score(y_test, i.predict(x_test)))"
   ]
  },
  {
   "cell_type": "code",
   "execution_count": 28,
   "metadata": {
    "ExecuteTime": {
     "end_time": "2022-01-18T02:44:10.059020Z",
     "start_time": "2022-01-18T02:44:10.044060Z"
    }
   },
   "outputs": [
    {
     "data": {
      "text/html": [
       "<div>\n",
       "<style scoped>\n",
       "    .dataframe tbody tr th:only-of-type {\n",
       "        vertical-align: middle;\n",
       "    }\n",
       "\n",
       "    .dataframe tbody tr th {\n",
       "        vertical-align: top;\n",
       "    }\n",
       "\n",
       "    .dataframe thead th {\n",
       "        text-align: right;\n",
       "    }\n",
       "</style>\n",
       "<table border=\"1\" class=\"dataframe\">\n",
       "  <thead>\n",
       "    <tr style=\"text-align: right;\">\n",
       "      <th></th>\n",
       "      <th>method</th>\n",
       "      <th>score</th>\n",
       "    </tr>\n",
       "  </thead>\n",
       "  <tbody>\n",
       "    <tr>\n",
       "      <th>0</th>\n",
       "      <td>benchmark</td>\n",
       "      <td>0.576271</td>\n",
       "    </tr>\n",
       "    <tr>\n",
       "      <th>1</th>\n",
       "      <td>undersampling</td>\n",
       "      <td>0.640777</td>\n",
       "    </tr>\n",
       "    <tr>\n",
       "      <th>2</th>\n",
       "      <td>class_weight</td>\n",
       "      <td>0.613861</td>\n",
       "    </tr>\n",
       "  </tbody>\n",
       "</table>\n",
       "</div>"
      ],
      "text/plain": [
       "          method     score\n",
       "0      benchmark  0.576271\n",
       "1  undersampling  0.640777\n",
       "2   class_weight  0.613861"
      ]
     },
     "execution_count": 28,
     "metadata": {},
     "output_type": "execute_result"
    }
   ],
   "source": [
    "pd.DataFrame({\n",
    "    'method':['benchmark','undersampling','class_weight'],\n",
    "    'score':f1\n",
    "})"
   ]
  },
  {
   "cell_type": "markdown",
   "metadata": {},
   "source": [
    "penggunaan metode balancing seperti resampling dan class weight mampu meningkatkan performa model (f1score). Perlu diperhatikan bahwa penggunaan metode balancing bisa menyebabkan bias, sehingga terjadi trade off antara precisiond an recall.\n",
    "\n",
    "Di kasus bankloan, berdasarkan f1 score, maka metode balancing terbaik adalah undersampling (tapi ingat kita belum melakukan cv)"
   ]
  },
  {
   "cell_type": "markdown",
   "metadata": {},
   "source": [
    "## Metric Evaluation for Imbalance Classification"
   ]
  },
  {
   "cell_type": "code",
   "execution_count": 29,
   "metadata": {
    "ExecuteTime": {
     "end_time": "2022-01-18T02:44:32.928058Z",
     "start_time": "2022-01-18T02:44:32.912106Z"
    }
   },
   "outputs": [],
   "source": [
    "from sklearn.metrics import SCORERS"
   ]
  },
  {
   "cell_type": "code",
   "execution_count": 30,
   "metadata": {
    "ExecuteTime": {
     "end_time": "2022-01-18T02:44:38.525407Z",
     "start_time": "2022-01-18T02:44:38.505492Z"
    }
   },
   "outputs": [
    {
     "data": {
      "text/plain": [
       "{'explained_variance': make_scorer(explained_variance_score),\n",
       " 'r2': make_scorer(r2_score),\n",
       " 'max_error': make_scorer(max_error, greater_is_better=False),\n",
       " 'neg_median_absolute_error': make_scorer(median_absolute_error, greater_is_better=False),\n",
       " 'neg_mean_absolute_error': make_scorer(mean_absolute_error, greater_is_better=False),\n",
       " 'neg_mean_absolute_percentage_error': make_scorer(mean_absolute_percentage_error, greater_is_better=False),\n",
       " 'neg_mean_squared_error': make_scorer(mean_squared_error, greater_is_better=False),\n",
       " 'neg_mean_squared_log_error': make_scorer(mean_squared_log_error, greater_is_better=False),\n",
       " 'neg_root_mean_squared_error': make_scorer(mean_squared_error, greater_is_better=False, squared=False),\n",
       " 'neg_mean_poisson_deviance': make_scorer(mean_poisson_deviance, greater_is_better=False),\n",
       " 'neg_mean_gamma_deviance': make_scorer(mean_gamma_deviance, greater_is_better=False),\n",
       " 'accuracy': make_scorer(accuracy_score),\n",
       " 'top_k_accuracy': make_scorer(top_k_accuracy_score, needs_threshold=True),\n",
       " 'roc_auc': make_scorer(roc_auc_score, needs_threshold=True),\n",
       " 'roc_auc_ovr': make_scorer(roc_auc_score, needs_proba=True, multi_class=ovr),\n",
       " 'roc_auc_ovo': make_scorer(roc_auc_score, needs_proba=True, multi_class=ovo),\n",
       " 'roc_auc_ovr_weighted': make_scorer(roc_auc_score, needs_proba=True, multi_class=ovr, average=weighted),\n",
       " 'roc_auc_ovo_weighted': make_scorer(roc_auc_score, needs_proba=True, multi_class=ovo, average=weighted),\n",
       " 'balanced_accuracy': make_scorer(balanced_accuracy_score),\n",
       " 'average_precision': make_scorer(average_precision_score, needs_threshold=True),\n",
       " 'neg_log_loss': make_scorer(log_loss, greater_is_better=False, needs_proba=True),\n",
       " 'neg_brier_score': make_scorer(brier_score_loss, greater_is_better=False, needs_proba=True),\n",
       " 'adjusted_rand_score': make_scorer(adjusted_rand_score),\n",
       " 'rand_score': make_scorer(rand_score),\n",
       " 'homogeneity_score': make_scorer(homogeneity_score),\n",
       " 'completeness_score': make_scorer(completeness_score),\n",
       " 'v_measure_score': make_scorer(v_measure_score),\n",
       " 'mutual_info_score': make_scorer(mutual_info_score),\n",
       " 'adjusted_mutual_info_score': make_scorer(adjusted_mutual_info_score),\n",
       " 'normalized_mutual_info_score': make_scorer(normalized_mutual_info_score),\n",
       " 'fowlkes_mallows_score': make_scorer(fowlkes_mallows_score),\n",
       " 'precision': make_scorer(precision_score, average=binary),\n",
       " 'precision_macro': make_scorer(precision_score, pos_label=None, average=macro),\n",
       " 'precision_micro': make_scorer(precision_score, pos_label=None, average=micro),\n",
       " 'precision_samples': make_scorer(precision_score, pos_label=None, average=samples),\n",
       " 'precision_weighted': make_scorer(precision_score, pos_label=None, average=weighted),\n",
       " 'recall': make_scorer(recall_score, average=binary),\n",
       " 'recall_macro': make_scorer(recall_score, pos_label=None, average=macro),\n",
       " 'recall_micro': make_scorer(recall_score, pos_label=None, average=micro),\n",
       " 'recall_samples': make_scorer(recall_score, pos_label=None, average=samples),\n",
       " 'recall_weighted': make_scorer(recall_score, pos_label=None, average=weighted),\n",
       " 'f1': make_scorer(f1_score, average=binary),\n",
       " 'f1_macro': make_scorer(f1_score, pos_label=None, average=macro),\n",
       " 'f1_micro': make_scorer(f1_score, pos_label=None, average=micro),\n",
       " 'f1_samples': make_scorer(f1_score, pos_label=None, average=samples),\n",
       " 'f1_weighted': make_scorer(f1_score, pos_label=None, average=weighted),\n",
       " 'jaccard': make_scorer(jaccard_score, average=binary),\n",
       " 'jaccard_macro': make_scorer(jaccard_score, pos_label=None, average=macro),\n",
       " 'jaccard_micro': make_scorer(jaccard_score, pos_label=None, average=micro),\n",
       " 'jaccard_samples': make_scorer(jaccard_score, pos_label=None, average=samples),\n",
       " 'jaccard_weighted': make_scorer(jaccard_score, pos_label=None, average=weighted)}"
      ]
     },
     "execution_count": 30,
     "metadata": {},
     "output_type": "execute_result"
    }
   ],
   "source": [
    "SCORERS"
   ]
  },
  {
   "cell_type": "markdown",
   "metadata": {},
   "source": [
    "metrik untuk imbalance classification yang tersedia: roc_auc, balanced_accuracy, average_precision (PR-curve), neg_brier_score"
   ]
  },
  {
   "cell_type": "code",
   "execution_count": 31,
   "metadata": {
    "ExecuteTime": {
     "end_time": "2022-01-18T02:47:59.649855Z",
     "start_time": "2022-01-18T02:47:59.639883Z"
    }
   },
   "outputs": [],
   "source": [
    "from sklearn.metrics import fbeta_score"
   ]
  },
  {
   "cell_type": "code",
   "execution_count": 32,
   "metadata": {
    "ExecuteTime": {
     "end_time": "2022-01-18T02:50:18.204450Z",
     "start_time": "2022-01-18T02:50:18.183540Z"
    }
   },
   "outputs": [
    {
     "data": {
      "text/plain": [
       "0.7311320754716982"
      ]
     },
     "execution_count": 32,
     "metadata": {},
     "output_type": "execute_result"
    }
   ],
   "source": [
    "fbeta_score(y_test,y_pred,beta=2) #kalau recall 2 kali lebih penting dari precision"
   ]
  },
  {
   "cell_type": "code",
   "execution_count": 33,
   "metadata": {
    "ExecuteTime": {
     "end_time": "2022-01-18T02:50:39.465948Z",
     "start_time": "2022-01-18T02:50:39.454977Z"
    }
   },
   "outputs": [
    {
     "data": {
      "text/plain": [
       "0.5290102389078498"
      ]
     },
     "execution_count": 33,
     "metadata": {},
     "output_type": "execute_result"
    }
   ],
   "source": [
    "fbeta_score(y_test,y_pred,beta=.5) #kalau precision 2 kali lebih penting dari recall"
   ]
  },
  {
   "cell_type": "code",
   "execution_count": 34,
   "metadata": {
    "ExecuteTime": {
     "end_time": "2022-01-18T02:52:41.843294Z",
     "start_time": "2022-01-18T02:52:41.833321Z"
    }
   },
   "outputs": [],
   "source": [
    "# untuk membuat metric evaluasi custom\n",
    "from sklearn.metrics import make_scorer"
   ]
  },
  {
   "cell_type": "code",
   "execution_count": 35,
   "metadata": {
    "ExecuteTime": {
     "end_time": "2022-01-18T02:53:27.246745Z",
     "start_time": "2022-01-18T02:53:27.232748Z"
    }
   },
   "outputs": [],
   "source": [
    "f2score=make_scorer(fbeta_score, beta=2)"
   ]
  },
  {
   "cell_type": "code",
   "execution_count": 36,
   "metadata": {
    "ExecuteTime": {
     "end_time": "2022-01-18T02:55:21.337123Z",
     "start_time": "2022-01-18T02:55:21.320197Z"
    }
   },
   "outputs": [
    {
     "data": {
      "text/plain": [
       "0.7311320754716982"
      ]
     },
     "execution_count": 36,
     "metadata": {},
     "output_type": "execute_result"
    }
   ],
   "source": [
    "f2score(model_balanced,x_test,y_test) # ini bisa masuk ke cv"
   ]
  },
  {
   "cell_type": "code",
   "execution_count": 37,
   "metadata": {
    "ExecuteTime": {
     "end_time": "2022-01-18T02:56:34.559131Z",
     "start_time": "2022-01-18T02:56:34.491281Z"
    }
   },
   "outputs": [
    {
     "data": {
      "text/plain": [
       "array([0.70987654, 0.64516129, 0.74404762, 0.60402685, 0.70552147])"
      ]
     },
     "execution_count": 37,
     "metadata": {},
     "output_type": "execute_result"
    }
   ],
   "source": [
    "from sklearn.model_selection import cross_val_score, StratifiedKFold\n",
    "cross_val_score(model_balanced,x_train,y_train, cv= StratifiedKFold(n_splits=5), scoring=f2score) #contoh pemakaian"
   ]
  },
  {
   "cell_type": "markdown",
   "metadata": {},
   "source": [
    "### Threshold Optimization"
   ]
  },
  {
   "cell_type": "code",
   "execution_count": 38,
   "metadata": {
    "ExecuteTime": {
     "end_time": "2022-01-18T03:05:19.483208Z",
     "start_time": "2022-01-18T03:05:19.474268Z"
    }
   },
   "outputs": [],
   "source": [
    "# karena cv untuk threshold optimization belum tersedia di library sklearn, kita perlu melakukan validasi manual\n",
    "x_train2, x_val, y_train2, y_val= train_test_split(x_train,y_train, stratify=y_train, test_size=0.25, random_state=2020)"
   ]
  },
  {
   "cell_type": "code",
   "execution_count": 39,
   "metadata": {
    "ExecuteTime": {
     "end_time": "2022-01-18T03:08:59.963853Z",
     "start_time": "2022-01-18T03:08:59.823208Z"
    }
   },
   "outputs": [],
   "source": [
    "model.fit(x_train2,y_train2) #model benchmark\n",
    "\n",
    "th_value=[i/100 for i in range (20,60)] # threshold antara 0.2-0.6\n",
    "score=0\n",
    "score_list=[]\n",
    "\n",
    "for i in th_value:\n",
    "    y_prob=model.predict_proba(x_val)[:,1]\n",
    "    y_pred=np.where(y_prob>i,1,0)\n",
    "    score_temp=f1_score(y_val,y_pred)\n",
    "    score_list.append(score_temp)\n",
    "    \n",
    "    if score_temp>score:\n",
    "        score=score_temp\n",
    "        \n",
    "        best_score=score\n",
    "        best_th=i"
   ]
  },
  {
   "cell_type": "code",
   "execution_count": 40,
   "metadata": {
    "ExecuteTime": {
     "end_time": "2022-01-18T03:10:18.073029Z",
     "start_time": "2022-01-18T03:10:17.845037Z"
    }
   },
   "outputs": [
    {
     "name": "stderr",
     "output_type": "stream",
     "text": [
      "C:\\Users\\brigi\\anaconda3\\lib\\site-packages\\seaborn\\_decorators.py:36: FutureWarning: Pass the following variables as keyword args: x, y. From version 0.12, the only valid positional argument will be `data`, and passing other arguments without an explicit keyword will result in an error or misinterpretation.\n",
      "  warnings.warn(\n"
     ]
    },
    {
     "data": {
      "text/plain": [
       "Text(0, 0.5, 'f1_score')"
      ]
     },
     "execution_count": 40,
     "metadata": {},
     "output_type": "execute_result"
    },
    {
     "data": {
      "image/png": "[encoded data removed]",
      "text/plain": [
       "<Figure size 432x288 with 1 Axes>"
      ]
     },
     "metadata": {
      "needs_background": "light"
     },
     "output_type": "display_data"
    }
   ],
   "source": [
    "sns.lineplot(th_value,score_list)\n",
    "plt.xlabel('threshold')\n",
    "plt.ylabel('f1_score')"
   ]
  },
  {
   "cell_type": "code",
   "execution_count": 41,
   "metadata": {
    "ExecuteTime": {
     "end_time": "2022-01-18T03:11:00.886270Z",
     "start_time": "2022-01-18T03:11:00.867286Z"
    }
   },
   "outputs": [
    {
     "name": "stdout",
     "output_type": "stream",
     "text": [
      "best score 0.6493506493506495\n",
      "best th 0.38\n"
     ]
    }
   ],
   "source": [
    "print('best score', best_score)\n",
    "print('best th', best_th)"
   ]
  },
  {
   "cell_type": "code",
   "execution_count": 42,
   "metadata": {
    "ExecuteTime": {
     "end_time": "2022-01-18T03:18:14.833157Z",
     "start_time": "2022-01-18T03:18:14.808226Z"
    }
   },
   "outputs": [],
   "source": [
    "model.fit(x_train,y_train)\n",
    "y_prob=model.predict_proba(x_test)[:,1]\n",
    "y_pred=np.where(y_prob>best_th,1,0)"
   ]
  },
  {
   "cell_type": "code",
   "execution_count": 43,
   "metadata": {
    "ExecuteTime": {
     "end_time": "2022-01-18T03:18:15.456106Z",
     "start_time": "2022-01-18T03:18:15.439150Z"
    }
   },
   "outputs": [
    {
     "name": "stdout",
     "output_type": "stream",
     "text": [
      "              precision    recall  f1-score   support\n",
      "\n",
      "           0       0.85      0.83      0.84       103\n",
      "           1       0.55      0.59      0.57        37\n",
      "\n",
      "    accuracy                           0.76       140\n",
      "   macro avg       0.70      0.71      0.70       140\n",
      "weighted avg       0.77      0.76      0.77       140\n",
      "\n"
     ]
    }
   ],
   "source": [
    "print(classification_report(y_test,y_pred))"
   ]
  },
  {
   "cell_type": "code",
   "execution_count": 44,
   "metadata": {
    "ExecuteTime": {
     "end_time": "2022-01-18T03:19:01.210395Z",
     "start_time": "2022-01-18T03:19:01.205416Z"
    }
   },
   "outputs": [],
   "source": [
    "# pr curve"
   ]
  },
  {
   "cell_type": "code",
   "execution_count": 45,
   "metadata": {
    "ExecuteTime": {
     "end_time": "2022-01-18T03:19:31.692958Z",
     "start_time": "2022-01-18T03:19:31.684014Z"
    }
   },
   "outputs": [],
   "source": [
    "from sklearn.metrics import precision_recall_curve, plot_precision_recall_curve"
   ]
  },
  {
   "cell_type": "code",
   "execution_count": 46,
   "metadata": {
    "ExecuteTime": {
     "end_time": "2022-01-18T03:27:48.089420Z",
     "start_time": "2022-01-18T03:27:48.058524Z"
    }
   },
   "outputs": [],
   "source": [
    "model.fit(x_train2,y_train2)\n",
    "y_prob_val=model.predict_proba(x_val)[:,1]\n",
    "y_pred_val=model.predict(x_val)"
   ]
  },
  {
   "cell_type": "code",
   "execution_count": 47,
   "metadata": {
    "ExecuteTime": {
     "end_time": "2022-01-18T03:27:54.815404Z",
     "start_time": "2022-01-18T03:27:54.634907Z"
    }
   },
   "outputs": [
    {
     "name": "stderr",
     "output_type": "stream",
     "text": [
      "C:\\Users\\brigi\\anaconda3\\lib\\site-packages\\sklearn\\utils\\deprecation.py:87: FutureWarning: Function plot_precision_recall_curve is deprecated; Function `plot_precision_recall_curve` is deprecated in 1.0 and will be removed in 1.2. Use one of the class methods: PrecisionRecallDisplay.from_predictions or PrecisionRecallDisplay.from_estimator.\n",
      "  warnings.warn(msg, category=FutureWarning)\n"
     ]
    },
    {
     "data": {
      "text/plain": [
       "<sklearn.metrics._plot.precision_recall_curve.PrecisionRecallDisplay at 0x2b648822d60>"
      ]
     },
     "execution_count": 47,
     "metadata": {},
     "output_type": "execute_result"
    },
    {
     "data": {
      "image/png": "[encoded data removed]",
      "text/plain": [
       "<Figure size 432x288 with 1 Axes>"
      ]
     },
     "metadata": {
      "needs_background": "light"
     },
     "output_type": "display_data"
    }
   ],
   "source": [
    "plot_precision_recall_curve(model, x_val,y_val)"
   ]
  },
  {
   "cell_type": "code",
   "execution_count": 48,
   "metadata": {
    "ExecuteTime": {
     "end_time": "2022-01-18T03:28:10.800713Z",
     "start_time": "2022-01-18T03:28:10.786750Z"
    }
   },
   "outputs": [],
   "source": [
    "p,r,th=precision_recall_curve(y_val,y_prob_val)"
   ]
  },
  {
   "cell_type": "code",
   "execution_count": 49,
   "metadata": {
    "ExecuteTime": {
     "end_time": "2022-01-18T03:28:12.121061Z",
     "start_time": "2022-01-18T03:28:12.105072Z"
    }
   },
   "outputs": [],
   "source": [
    "th=list(th)\n",
    "th.insert(0,0)"
   ]
  },
  {
   "cell_type": "code",
   "execution_count": 50,
   "metadata": {
    "ExecuteTime": {
     "end_time": "2022-01-18T03:28:12.451324Z",
     "start_time": "2022-01-18T03:28:12.439354Z"
    }
   },
   "outputs": [],
   "source": [
    "pr_curve= pd.DataFrame({\n",
    "    'precision':p,\n",
    "    'recall': r,\n",
    "    'threshold':th\n",
    "})"
   ]
  },
  {
   "cell_type": "code",
   "execution_count": 51,
   "metadata": {
    "ExecuteTime": {
     "end_time": "2022-01-18T03:37:12.798649Z",
     "start_time": "2022-01-18T03:37:12.781685Z"
    }
   },
   "outputs": [
    {
     "data": {
      "text/html": [
       "<div>\n",
       "<style scoped>\n",
       "    .dataframe tbody tr th:only-of-type {\n",
       "        vertical-align: middle;\n",
       "    }\n",
       "\n",
       "    .dataframe tbody tr th {\n",
       "        vertical-align: top;\n",
       "    }\n",
       "\n",
       "    .dataframe thead th {\n",
       "        text-align: right;\n",
       "    }\n",
       "</style>\n",
       "<table border=\"1\" class=\"dataframe\">\n",
       "  <thead>\n",
       "    <tr style=\"text-align: right;\">\n",
       "      <th></th>\n",
       "      <th>precision</th>\n",
       "      <th>recall</th>\n",
       "      <th>threshold</th>\n",
       "    </tr>\n",
       "  </thead>\n",
       "  <tbody>\n",
       "    <tr>\n",
       "      <th>66</th>\n",
       "      <td>0.509434</td>\n",
       "      <td>0.750000</td>\n",
       "      <td>0.280418</td>\n",
       "    </tr>\n",
       "    <tr>\n",
       "      <th>68</th>\n",
       "      <td>0.509804</td>\n",
       "      <td>0.722222</td>\n",
       "      <td>0.298660</td>\n",
       "    </tr>\n",
       "    <tr>\n",
       "      <th>69</th>\n",
       "      <td>0.520000</td>\n",
       "      <td>0.722222</td>\n",
       "      <td>0.301012</td>\n",
       "    </tr>\n",
       "    <tr>\n",
       "      <th>70</th>\n",
       "      <td>0.530612</td>\n",
       "      <td>0.722222</td>\n",
       "      <td>0.303087</td>\n",
       "    </tr>\n",
       "    <tr>\n",
       "      <th>71</th>\n",
       "      <td>0.541667</td>\n",
       "      <td>0.722222</td>\n",
       "      <td>0.314521</td>\n",
       "    </tr>\n",
       "    <tr>\n",
       "      <th>72</th>\n",
       "      <td>0.553191</td>\n",
       "      <td>0.722222</td>\n",
       "      <td>0.314689</td>\n",
       "    </tr>\n",
       "    <tr>\n",
       "      <th>73</th>\n",
       "      <td>0.543478</td>\n",
       "      <td>0.694444</td>\n",
       "      <td>0.323618</td>\n",
       "    </tr>\n",
       "    <tr>\n",
       "      <th>74</th>\n",
       "      <td>0.555556</td>\n",
       "      <td>0.694444</td>\n",
       "      <td>0.331693</td>\n",
       "    </tr>\n",
       "    <tr>\n",
       "      <th>75</th>\n",
       "      <td>0.568182</td>\n",
       "      <td>0.694444</td>\n",
       "      <td>0.333981</td>\n",
       "    </tr>\n",
       "    <tr>\n",
       "      <th>76</th>\n",
       "      <td>0.581395</td>\n",
       "      <td>0.694444</td>\n",
       "      <td>0.335875</td>\n",
       "    </tr>\n",
       "    <tr>\n",
       "      <th>77</th>\n",
       "      <td>0.595238</td>\n",
       "      <td>0.694444</td>\n",
       "      <td>0.359999</td>\n",
       "    </tr>\n",
       "    <tr>\n",
       "      <th>78</th>\n",
       "      <td>0.609756</td>\n",
       "      <td>0.694444</td>\n",
       "      <td>0.379287</td>\n",
       "    </tr>\n",
       "    <tr>\n",
       "      <th>79</th>\n",
       "      <td>0.600000</td>\n",
       "      <td>0.666667</td>\n",
       "      <td>0.384676</td>\n",
       "    </tr>\n",
       "    <tr>\n",
       "      <th>80</th>\n",
       "      <td>0.615385</td>\n",
       "      <td>0.666667</td>\n",
       "      <td>0.390425</td>\n",
       "    </tr>\n",
       "    <tr>\n",
       "      <th>81</th>\n",
       "      <td>0.605263</td>\n",
       "      <td>0.638889</td>\n",
       "      <td>0.416838</td>\n",
       "    </tr>\n",
       "    <tr>\n",
       "      <th>82</th>\n",
       "      <td>0.621622</td>\n",
       "      <td>0.638889</td>\n",
       "      <td>0.417033</td>\n",
       "    </tr>\n",
       "    <tr>\n",
       "      <th>83</th>\n",
       "      <td>0.611111</td>\n",
       "      <td>0.611111</td>\n",
       "      <td>0.423065</td>\n",
       "    </tr>\n",
       "    <tr>\n",
       "      <th>84</th>\n",
       "      <td>0.628571</td>\n",
       "      <td>0.611111</td>\n",
       "      <td>0.433681</td>\n",
       "    </tr>\n",
       "    <tr>\n",
       "      <th>85</th>\n",
       "      <td>0.647059</td>\n",
       "      <td>0.611111</td>\n",
       "      <td>0.449189</td>\n",
       "    </tr>\n",
       "  </tbody>\n",
       "</table>\n",
       "</div>"
      ],
      "text/plain": [
       "    precision    recall  threshold\n",
       "66   0.509434  0.750000   0.280418\n",
       "68   0.509804  0.722222   0.298660\n",
       "69   0.520000  0.722222   0.301012\n",
       "70   0.530612  0.722222   0.303087\n",
       "71   0.541667  0.722222   0.314521\n",
       "72   0.553191  0.722222   0.314689\n",
       "73   0.543478  0.694444   0.323618\n",
       "74   0.555556  0.694444   0.331693\n",
       "75   0.568182  0.694444   0.333981\n",
       "76   0.581395  0.694444   0.335875\n",
       "77   0.595238  0.694444   0.359999\n",
       "78   0.609756  0.694444   0.379287\n",
       "79   0.600000  0.666667   0.384676\n",
       "80   0.615385  0.666667   0.390425\n",
       "81   0.605263  0.638889   0.416838\n",
       "82   0.621622  0.638889   0.417033\n",
       "83   0.611111  0.611111   0.423065\n",
       "84   0.628571  0.611111   0.433681\n",
       "85   0.647059  0.611111   0.449189"
      ]
     },
     "execution_count": 51,
     "metadata": {},
     "output_type": "execute_result"
    }
   ],
   "source": [
    "pr_curve[(pr_curve['recall']>0.6)&(pr_curve['precision']>0.5)]"
   ]
  },
  {
   "cell_type": "code",
   "execution_count": 52,
   "metadata": {
    "ExecuteTime": {
     "end_time": "2022-01-18T03:37:26.437536Z",
     "start_time": "2022-01-18T03:37:26.418618Z"
    }
   },
   "outputs": [],
   "source": [
    "th=pr_curve['threshold'].iloc[72] #misal kita mau recall yang cukup tinggi tapi precision tidak telalu rendah juga"
   ]
  },
  {
   "cell_type": "code",
   "execution_count": 53,
   "metadata": {
    "ExecuteTime": {
     "end_time": "2022-01-18T03:37:27.286882Z",
     "start_time": "2022-01-18T03:37:27.263912Z"
    }
   },
   "outputs": [],
   "source": [
    "model.fit(x_train,y_train)\n",
    "y_prob=model.predict_proba(x_test)[:,1]\n",
    "y_pred= np.where(y_prob>th,1,0)"
   ]
  },
  {
   "cell_type": "code",
   "execution_count": 54,
   "metadata": {
    "ExecuteTime": {
     "end_time": "2022-01-18T03:37:27.882621Z",
     "start_time": "2022-01-18T03:37:27.865653Z"
    }
   },
   "outputs": [
    {
     "name": "stdout",
     "output_type": "stream",
     "text": [
      "              precision    recall  f1-score   support\n",
      "\n",
      "           0       0.87      0.77      0.81       103\n",
      "           1       0.51      0.68      0.58        37\n",
      "\n",
      "    accuracy                           0.74       140\n",
      "   macro avg       0.69      0.72      0.70       140\n",
      "weighted avg       0.77      0.74      0.75       140\n",
      "\n"
     ]
    }
   ],
   "source": [
    "print(classification_report(y_test,y_pred))"
   ]
  },
  {
   "cell_type": "markdown",
   "metadata": {},
   "source": [
    "## Combining Cross Validation with Balancing Method"
   ]
  },
  {
   "cell_type": "code",
   "execution_count": 55,
   "metadata": {
    "ExecuteTime": {
     "end_time": "2022-01-18T03:49:53.862273Z",
     "start_time": "2022-01-18T03:49:53.856290Z"
    }
   },
   "outputs": [],
   "source": [
    "import pandas as pd\n",
    "import numpy as np\n",
    "\n",
    "import seaborn as sns\n",
    "import matplotlib.pyplot as plt\n",
    "\n",
    "from sklearn.model_selection import train_test_split, cross_val_score, StratifiedKFold, GridSearchCV\n",
    "from imblearn.over_sampling import SMOTE\n",
    "from imblearn.under_sampling import NearMiss\n",
    "from imblearn.pipeline import Pipeline #perhatikan library-nya\n",
    "\n",
    "from sklearn.linear_model import LogisticRegression\n",
    "\n",
    "from sklearn.metrics import plot_roc_curve, classification_report, f1_score\n",
    "\n",
    "pd.set_option('display.max_columns', None) #agar semua kolom muncul"
   ]
  },
  {
   "cell_type": "markdown",
   "metadata": {},
   "source": [
    "masih dengan dataset bankloan, kita bandingkan hasil resampling SMOTE dengan balancing menggunakan class_weigth"
   ]
  },
  {
   "cell_type": "markdown",
   "metadata": {},
   "source": [
    "### Resampling SMOTE"
   ]
  },
  {
   "cell_type": "code",
   "execution_count": 56,
   "metadata": {
    "ExecuteTime": {
     "end_time": "2022-01-18T03:51:28.146457Z",
     "start_time": "2022-01-18T03:51:28.133478Z"
    }
   },
   "outputs": [],
   "source": [
    "smote=SMOTE(random_state=2020)\n",
    "model=LogisticRegression(random_state=2020)\n",
    "estimator=Pipeline([\n",
    "    ('resampling', smote),\n",
    "    ('model',model)\n",
    "])"
   ]
  },
  {
   "cell_type": "code",
   "execution_count": 57,
   "metadata": {
    "ExecuteTime": {
     "end_time": "2022-01-18T03:56:49.271066Z",
     "start_time": "2022-01-18T03:56:49.187252Z"
    }
   },
   "outputs": [],
   "source": [
    "skfold= StratifiedKFold(n_splits=5)\n",
    "model_cv=cross_val_score(estimator,x_train,y_train, cv=skfold, scoring='f1')"
   ]
  },
  {
   "cell_type": "code",
   "execution_count": 58,
   "metadata": {
    "ExecuteTime": {
     "end_time": "2022-01-18T03:57:27.876897Z",
     "start_time": "2022-01-18T03:57:27.864927Z"
    }
   },
   "outputs": [
    {
     "name": "stdout",
     "output_type": "stream",
     "text": [
      "cv score [0.63013699 0.57575758 0.6097561  0.6031746  0.60526316]\n",
      "cv mean 0.6048176841378522\n",
      "cv std 0.017394499418945462\n"
     ]
    }
   ],
   "source": [
    "print('cv score', model_cv)\n",
    "print('cv mean', model_cv.mean())\n",
    "print('cv std', model_cv.std())"
   ]
  },
  {
   "cell_type": "markdown",
   "metadata": {},
   "source": [
    "### Class Weigth"
   ]
  },
  {
   "cell_type": "code",
   "execution_count": 59,
   "metadata": {
    "ExecuteTime": {
     "end_time": "2022-01-18T03:58:35.210394Z",
     "start_time": "2022-01-18T03:58:35.128090Z"
    }
   },
   "outputs": [],
   "source": [
    "model=LogisticRegression(class_weight='balanced', random_state=2020)\n",
    "model_cv=cross_val_score(model,x_train,y_train, cv=skfold, scoring='f1')"
   ]
  },
  {
   "cell_type": "code",
   "execution_count": 60,
   "metadata": {
    "ExecuteTime": {
     "end_time": "2022-01-18T03:58:41.506445Z",
     "start_time": "2022-01-18T03:58:41.499447Z"
    }
   },
   "outputs": [
    {
     "name": "stdout",
     "output_type": "stream",
     "text": [
      "cv score [0.63888889 0.58823529 0.61728395 0.58064516 0.60526316]\n",
      "cv mean 0.6060632905617759\n",
      "cv std 0.020822978090423456\n"
     ]
    }
   ],
   "source": [
    "print('cv score', model_cv)\n",
    "print('cv mean', model_cv.mean())\n",
    "print('cv std', model_cv.std())"
   ]
  },
  {
   "cell_type": "markdown",
   "metadata": {},
   "source": [
    "metode class weigth memiliki score sedikit lebih baik, tetapi juga sedkit lebih tidak stabil.  \n",
    "\n",
    "untuk tahap berikutnya mari kita coba tunning model dengan SMOTE, untuk melihat bagaimana cara tunning tahapan resampling"
   ]
  },
  {
   "cell_type": "markdown",
   "metadata": {},
   "source": [
    "## Hyperparameter Tunning"
   ]
  },
  {
   "cell_type": "code",
   "execution_count": 61,
   "metadata": {
    "ExecuteTime": {
     "end_time": "2022-01-18T04:04:10.416286Z",
     "start_time": "2022-01-18T04:04:10.399329Z"
    }
   },
   "outputs": [],
   "source": [
    "# make algorithm chain\n",
    "smote= SMOTE(random_state=2020, k_neighbors=5) #default k_neighbors pada smote=5\n",
    "model=LogisticRegression(random_state=2020)\n",
    "estimator=Pipeline([\n",
    "    ('balancing', smote),\n",
    "    ('model',model)\n",
    "])"
   ]
  },
  {
   "cell_type": "code",
   "execution_count": 62,
   "metadata": {
    "ExecuteTime": {
     "end_time": "2022-01-18T04:04:10.841321Z",
     "start_time": "2022-01-18T04:04:10.830350Z"
    }
   },
   "outputs": [
    {
     "data": {
      "text/plain": [
       "{'memory': None,\n",
       " 'steps': [('balancing', SMOTE(random_state=2020)),\n",
       "  ('model', LogisticRegression(random_state=2020))],\n",
       " 'verbose': False,\n",
       " 'balancing': SMOTE(random_state=2020),\n",
       " 'model': LogisticRegression(random_state=2020),\n",
       " 'balancing__k_neighbors': 5,\n",
       " 'balancing__n_jobs': None,\n",
       " 'balancing__random_state': 2020,\n",
       " 'balancing__sampling_strategy': 'auto',\n",
       " 'model__C': 1.0,\n",
       " 'model__class_weight': None,\n",
       " 'model__dual': False,\n",
       " 'model__fit_intercept': True,\n",
       " 'model__intercept_scaling': 1,\n",
       " 'model__l1_ratio': None,\n",
       " 'model__max_iter': 100,\n",
       " 'model__multi_class': 'auto',\n",
       " 'model__n_jobs': None,\n",
       " 'model__penalty': 'l2',\n",
       " 'model__random_state': 2020,\n",
       " 'model__solver': 'lbfgs',\n",
       " 'model__tol': 0.0001,\n",
       " 'model__verbose': 0,\n",
       " 'model__warm_start': False}"
      ]
     },
     "execution_count": 62,
     "metadata": {},
     "output_type": "execute_result"
    }
   ],
   "source": [
    "estimator.get_params() # parameter2 pada estimator"
   ]
  },
  {
   "cell_type": "code",
   "execution_count": 63,
   "metadata": {
    "ExecuteTime": {
     "end_time": "2022-01-18T04:06:30.463792Z",
     "start_time": "2022-01-18T04:06:30.448834Z"
    }
   },
   "outputs": [],
   "source": [
    "hyperparam_space= {\n",
    "    'balancing__k_neighbors':[2,5,10,15,25], #default 5\n",
    "    'model__C':[100,10,1,0.1,0.001,0.0001], #default 1\n",
    "    'model__solver':['liblinear','newton-cg','lbfgs'],\n",
    "    'model__class_weight':[None,'balanced']\n",
    "}"
   ]
  },
  {
   "cell_type": "code",
   "execution_count": 64,
   "metadata": {
    "ExecuteTime": {
     "end_time": "2022-01-18T04:26:54.679452Z",
     "start_time": "2022-01-18T04:26:54.660503Z"
    }
   },
   "outputs": [],
   "source": [
    "grid_search= GridSearchCV(estimator,\n",
    "                         param_grid=hyperparam_space,\n",
    "                         cv=skfold,\n",
    "                         scoring='f1',\n",
    "                         n_jobs=-1)"
   ]
  },
  {
   "cell_type": "code",
   "execution_count": 65,
   "metadata": {
    "ExecuteTime": {
     "end_time": "2022-01-18T04:27:01.355595Z",
     "start_time": "2022-01-18T04:26:55.348973Z"
    }
   },
   "outputs": [
    {
     "data": {
      "text/plain": [
       "GridSearchCV(cv=StratifiedKFold(n_splits=5, random_state=None, shuffle=False),\n",
       "             estimator=Pipeline(steps=[('balancing', SMOTE(random_state=2020)),\n",
       "                                       ('model',\n",
       "                                        LogisticRegression(random_state=2020))]),\n",
       "             n_jobs=-1,\n",
       "             param_grid={'balancing__k_neighbors': [2, 5, 10, 15, 25],\n",
       "                         'model__C': [100, 10, 1, 0.1, 0.001, 0.0001],\n",
       "                         'model__class_weight': [None, 'balanced'],\n",
       "                         'model__solver': ['liblinear', 'newton-cg', 'lbfgs']},\n",
       "             scoring='f1')"
      ]
     },
     "execution_count": 65,
     "metadata": {},
     "output_type": "execute_result"
    }
   ],
   "source": [
    "grid_search.fit(x_train,y_train)"
   ]
  },
  {
   "cell_type": "code",
   "execution_count": 66,
   "metadata": {
    "ExecuteTime": {
     "end_time": "2022-01-18T04:27:03.007373Z",
     "start_time": "2022-01-18T04:27:02.996403Z"
    }
   },
   "outputs": [
    {
     "name": "stdout",
     "output_type": "stream",
     "text": [
      "best score 0.6172614865302053\n",
      "best parameter {'balancing__k_neighbors': 15, 'model__C': 0.1, 'model__class_weight': None, 'model__solver': 'newton-cg'}\n"
     ]
    }
   ],
   "source": [
    "print('best score', grid_search.best_score_)\n",
    "print('best parameter', grid_search.best_params_)"
   ]
  },
  {
   "cell_type": "markdown",
   "metadata": {},
   "source": [
    "### Before vs After Tunning"
   ]
  },
  {
   "cell_type": "code",
   "execution_count": 67,
   "metadata": {
    "ExecuteTime": {
     "end_time": "2022-01-18T04:27:10.054520Z",
     "start_time": "2022-01-18T04:27:10.043554Z"
    }
   },
   "outputs": [],
   "source": [
    "# before\n",
    "smote= SMOTE(random_state=2020, k_neighbors=5) #default k_neighbors pada smote=5\n",
    "model=LogisticRegression(random_state=2020)\n",
    "estimator=Pipeline([\n",
    "    ('balancing', smote),\n",
    "    ('model',model)\n",
    "])"
   ]
  },
  {
   "cell_type": "code",
   "execution_count": 68,
   "metadata": {
    "ExecuteTime": {
     "end_time": "2022-01-18T04:27:10.870584Z",
     "start_time": "2022-01-18T04:27:10.848670Z"
    }
   },
   "outputs": [
    {
     "name": "stdout",
     "output_type": "stream",
     "text": [
      "              precision    recall  f1-score   support\n",
      "\n",
      "           0       0.92      0.70      0.80       103\n",
      "           1       0.50      0.84      0.63        37\n",
      "\n",
      "    accuracy                           0.74       140\n",
      "   macro avg       0.71      0.77      0.71       140\n",
      "weighted avg       0.81      0.74      0.75       140\n",
      "\n"
     ]
    }
   ],
   "source": [
    "estimator.fit(x_train,y_train)\n",
    "y_pred=estimator.predict(x_test)\n",
    "print(classification_report(y_test,y_pred))"
   ]
  },
  {
   "cell_type": "code",
   "execution_count": 69,
   "metadata": {
    "ExecuteTime": {
     "end_time": "2022-01-18T04:27:11.467593Z",
     "start_time": "2022-01-18T04:27:11.438989Z"
    }
   },
   "outputs": [
    {
     "name": "stdout",
     "output_type": "stream",
     "text": [
      "              precision    recall  f1-score   support\n",
      "\n",
      "           0       0.91      0.71      0.80       103\n",
      "           1       0.50      0.81      0.62        37\n",
      "\n",
      "    accuracy                           0.74       140\n",
      "   macro avg       0.71      0.76      0.71       140\n",
      "weighted avg       0.80      0.74      0.75       140\n",
      "\n"
     ]
    }
   ],
   "source": [
    "# after\n",
    "best_model= grid_search.best_estimator_\n",
    "best_model.fit(x_train,y_train)\n",
    "y_pred=best_model.predict(x_test)\n",
    "print(classification_report(y_test,y_pred))"
   ]
  },
  {
   "cell_type": "markdown",
   "metadata": {},
   "source": [
    "Hyperparameter malah menurunkan f1 score dari 0.63 menjadi 0.62. Bisa dicoba dengan menambah parameter lain, atau mencoba model lain"
   ]
  },
  {
   "cell_type": "markdown",
   "metadata": {},
   "source": [
    "# latihan\n",
    "Masih dengan data bankloan.csv:  \n",
    "Pilihlah model terbaik antara:\n",
    "* model decision tree (max depth 3) dengan resampling nearmiss\n",
    "* model decision tree (max depth 3) dengan resampling smote  \n",
    "\n",
    "Lakukan hyperparameter tunning pada model yang terpilih.  \n",
    "tampilkan atribut dari model akhir.  \n",
    "\n",
    "jangan lupa gunakan pipeline dan random state 2020"
   ]
  },
  {
   "cell_type": "code",
   "execution_count": 70,
   "metadata": {},
   "outputs": [],
   "source": [
    "from sklearn.tree import DecisionTreeClassifier"
   ]
  },
  {
   "cell_type": "code",
   "execution_count": 71,
   "metadata": {},
   "outputs": [],
   "source": [
    "model=DecisionTreeClassifier(max_depth=3, random_state=2020)\n",
    "pipe_smote=Pipeline([\n",
    "    ('smote',SMOTE(random_state=2020)),\n",
    "    ('model',model)\n",
    "])\n",
    "\n",
    "pipe_nm=Pipeline([\n",
    "    ('nearmiss',NearMiss()),\n",
    "    ('model',model)\n",
    "])"
   ]
  },
  {
   "cell_type": "code",
   "execution_count": 72,
   "metadata": {},
   "outputs": [],
   "source": [
    "models=[pipe_smote,pipe_nm]\n",
    "score=[]\n",
    "rata=[]\n",
    "std=[]\n",
    "\n",
    "for i in models:\n",
    "    skfold= StratifiedKFold(n_splits=5)\n",
    "\n",
    "    model_cv=cross_val_score(i,x_train,y_train,cv=skfold,scoring='f1')\n",
    "    score.append(model_cv)\n",
    "    rata.append(model_cv.mean())\n",
    "    std.append(model_cv.std())"
   ]
  },
  {
   "cell_type": "code",
   "execution_count": 73,
   "metadata": {},
   "outputs": [
    {
     "data": {
      "text/html": [
       "<div>\n",
       "<style scoped>\n",
       "    .dataframe tbody tr th:only-of-type {\n",
       "        vertical-align: middle;\n",
       "    }\n",
       "\n",
       "    .dataframe tbody tr th {\n",
       "        vertical-align: top;\n",
       "    }\n",
       "\n",
       "    .dataframe thead th {\n",
       "        text-align: right;\n",
       "    }\n",
       "</style>\n",
       "<table border=\"1\" class=\"dataframe\">\n",
       "  <thead>\n",
       "    <tr style=\"text-align: right;\">\n",
       "      <th></th>\n",
       "      <th>bal</th>\n",
       "      <th>mean</th>\n",
       "      <th>std</th>\n",
       "    </tr>\n",
       "  </thead>\n",
       "  <tbody>\n",
       "    <tr>\n",
       "      <th>0</th>\n",
       "      <td>smote</td>\n",
       "      <td>0.549229</td>\n",
       "      <td>0.074946</td>\n",
       "    </tr>\n",
       "    <tr>\n",
       "      <th>1</th>\n",
       "      <td>nearmiss</td>\n",
       "      <td>0.435535</td>\n",
       "      <td>0.081567</td>\n",
       "    </tr>\n",
       "  </tbody>\n",
       "</table>\n",
       "</div>"
      ],
      "text/plain": [
       "        bal      mean       std\n",
       "0     smote  0.549229  0.074946\n",
       "1  nearmiss  0.435535  0.081567"
      ]
     },
     "execution_count": 73,
     "metadata": {},
     "output_type": "execute_result"
    }
   ],
   "source": [
    "pd.DataFrame({\n",
    "    'bal':['smote','nearmiss'],\n",
    "    'mean':rata,\n",
    "    'std':std\n",
    "})"
   ]
  },
  {
   "cell_type": "code",
   "execution_count": 74,
   "metadata": {},
   "outputs": [],
   "source": [
    "hyperparam_space= {\n",
    "    'smote__k_neighbors':[2,5,10,15,25],\n",
    "    'model__max_depth':[1,2,3,4,5],\n",
    "    'model__min_samples_split':[2,5,10,15,25,50,75,85,100,200,300],\n",
    "    'model__min_samples_leaf':[1,2,5,10,15,25,50,75,100,200,300],\n",
    "    'model__criterion':['entropy','gini'],\n",
    "    'model__class_weight':[None,'balanced']\n",
    "}"
   ]
  },
  {
   "cell_type": "code",
   "execution_count": 75,
   "metadata": {},
   "outputs": [],
   "source": [
    "grid_search= GridSearchCV(pipe_smote,\n",
    "                         param_grid=hyperparam_space,\n",
    "                         cv=skfold,\n",
    "                         scoring='f1',\n",
    "                         n_jobs=-1)"
   ]
  },
  {
   "cell_type": "code",
   "execution_count": 76,
   "metadata": {},
   "outputs": [
    {
     "data": {
      "text/plain": [
       "GridSearchCV(cv=StratifiedKFold(n_splits=5, random_state=None, shuffle=False),\n",
       "             estimator=Pipeline(steps=[('smote', SMOTE(random_state=2020)),\n",
       "                                       ('model',\n",
       "                                        DecisionTreeClassifier(max_depth=3,\n",
       "                                                               random_state=2020))]),\n",
       "             n_jobs=-1,\n",
       "             param_grid={'model__class_weight': [None, 'balanced'],\n",
       "                         'model__criterion': ['entropy', 'gini'],\n",
       "                         'model__max_depth': [1, 2, 3, 4, 5],\n",
       "                         'model__min_samples_leaf': [1, 2, 5, 10, 15, 25, 50,\n",
       "                                                     75, 100, 200, 300],\n",
       "                         'model__min_samples_split': [2, 5, 10, 15, 25, 50, 75,\n",
       "                                                      85, 100, 200, 300],\n",
       "                         'smote__k_neighbors': [2, 5, 10, 15, 25]},\n",
       "             scoring='f1')"
      ]
     },
     "execution_count": 76,
     "metadata": {},
     "output_type": "execute_result"
    }
   ],
   "source": [
    "grid_search.fit(x_train,y_train)"
   ]
  },
  {
   "cell_type": "code",
   "execution_count": 77,
   "metadata": {},
   "outputs": [
    {
     "data": {
      "text/plain": [
       "({'model__class_weight': None,\n",
       "  'model__criterion': 'entropy',\n",
       "  'model__max_depth': 5,\n",
       "  'model__min_samples_leaf': 15,\n",
       "  'model__min_samples_split': 50,\n",
       "  'smote__k_neighbors': 2},\n",
       " 0.5980846336043757)"
      ]
     },
     "execution_count": 77,
     "metadata": {},
     "output_type": "execute_result"
    }
   ],
   "source": [
    "grid_search.best_params_,grid_search.best_score_ "
   ]
  },
  {
   "cell_type": "code",
   "execution_count": 78,
   "metadata": {},
   "outputs": [
    {
     "name": "stdout",
     "output_type": "stream",
     "text": [
      "              precision    recall  f1-score   support\n",
      "\n",
      "           0       0.86      0.66      0.75       103\n",
      "           1       0.43      0.70      0.53        37\n",
      "\n",
      "    accuracy                           0.67       140\n",
      "   macro avg       0.64      0.68      0.64       140\n",
      "weighted avg       0.75      0.67      0.69       140\n",
      "\n"
     ]
    }
   ],
   "source": [
    "pipe_smote.fit(x_train,y_train)\n",
    "y_pred=pipe_smote.predict(x_test)\n",
    "print(classification_report(y_test,y_pred))"
   ]
  },
  {
   "cell_type": "code",
   "execution_count": 79,
   "metadata": {},
   "outputs": [
    {
     "name": "stdout",
     "output_type": "stream",
     "text": [
      "              precision    recall  f1-score   support\n",
      "\n",
      "           0       0.89      0.75      0.81       103\n",
      "           1       0.51      0.73      0.60        37\n",
      "\n",
      "    accuracy                           0.74       140\n",
      "   macro avg       0.70      0.74      0.71       140\n",
      "weighted avg       0.79      0.74      0.75       140\n",
      "\n"
     ]
    }
   ],
   "source": [
    "best_model= grid_search.best_estimator_\n",
    "best_model.fit(x_train,y_train)\n",
    "print(classification_report(y_test,best_model.predict(x_test)))"
   ]
  },
  {
   "cell_type": "code",
   "execution_count": 85,
   "metadata": {},
   "outputs": [
    {
     "data": {
      "text/html": [
       "<div>\n",
       "<style scoped>\n",
       "    .dataframe tbody tr th:only-of-type {\n",
       "        vertical-align: middle;\n",
       "    }\n",
       "\n",
       "    .dataframe tbody tr th {\n",
       "        vertical-align: top;\n",
       "    }\n",
       "\n",
       "    .dataframe thead th {\n",
       "        text-align: right;\n",
       "    }\n",
       "</style>\n",
       "<table border=\"1\" class=\"dataframe\">\n",
       "  <thead>\n",
       "    <tr style=\"text-align: right;\">\n",
       "      <th></th>\n",
       "      <th>impotance</th>\n",
       "    </tr>\n",
       "  </thead>\n",
       "  <tbody>\n",
       "    <tr>\n",
       "      <th>employ</th>\n",
       "      <td>0.387979</td>\n",
       "    </tr>\n",
       "    <tr>\n",
       "      <th>debtinc</th>\n",
       "      <td>0.406405</td>\n",
       "    </tr>\n",
       "    <tr>\n",
       "      <th>creddebt</th>\n",
       "      <td>0.205616</td>\n",
       "    </tr>\n",
       "    <tr>\n",
       "      <th>othdebt</th>\n",
       "      <td>0.000000</td>\n",
       "    </tr>\n",
       "  </tbody>\n",
       "</table>\n",
       "</div>"
      ],
      "text/plain": [
       "          impotance\n",
       "employ     0.387979\n",
       "debtinc    0.406405\n",
       "creddebt   0.205616\n",
       "othdebt    0.000000"
      ]
     },
     "execution_count": 85,
     "metadata": {},
     "output_type": "execute_result"
    }
   ],
   "source": [
    "pd.DataFrame({'impotance':best_model[1].feature_importances_}, index=x.columns)"
   ]
  },
  {
   "cell_type": "code",
   "execution_count": null,
   "metadata": {},
   "outputs": [],
   "source": []
  }
 ],
 "metadata": {
  "hide_input": false,
  "kernelspec": {
   "display_name": "Python 3",
   "language": "python",
   "name": "python3"
  },
  "language_info": {
   "codemirror_mode": {
    "name": "ipython",
    "version": 3
   },
   "file_extension": ".py",
   "mimetype": "text/x-python",
   "name": "python",
   "nbconvert_exporter": "python",
   "pygments_lexer": "ipython3",
   "version": "3.8.3"
  },
  "toc": {
   "base_numbering": 1,
   "nav_menu": {},
   "number_sections": true,
   "sideBar": true,
   "skip_h1_title": false,
   "title_cell": "Table of Contents",
   "title_sidebar": "Contents",
   "toc_cell": false,
   "toc_position": {},
   "toc_section_display": true,
   "toc_window_display": false
  }
 },
 "nbformat": 4,
 "nbformat_minor": 4
}
