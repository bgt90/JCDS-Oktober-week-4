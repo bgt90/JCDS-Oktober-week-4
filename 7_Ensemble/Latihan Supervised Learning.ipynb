{
 "cells": [
  {
   "cell_type": "markdown",
   "metadata": {},
   "source": [
    "# Latihan\n",
    "\n",
    "##  ``Hotel Reservation Cancellation Prediction``\n",
    "\n",
    "Anda adalah Data Scientist di sebuah perusahaan hotel. Anda diberikan dataset berisi informasi pemesanan kamar hotel (*booking information*) baik untuk hotel kota (*city hotel*) maupun hotel resort. Dataset ini juga mengandung kapan *booking* dilakukan, lama menginap, jumlah pengunjung dewasa, anak-anak, dan/atau bayi, serta ketersediaan tempat parkir. Informasi lain mengenai dataset bisa Anda baca di keterangan dataset di bawah ini:  \n",
    "\n",
    "\n",
    "## **Dataset**\n",
    "\n",
    "Dataset ini berasal dari paper Jurnal Ilmiah berjudul \"Hotel booking demand datasets\" yang ditulis oleh Nuno Antonio, Ana Almeida, and Luis Nunes for Data in Brief, Volume 22, February 2019. Penjelasan tiap feature/variabel dari Jurnal bisa Anda akses di  https://www.sciencedirect.com/science/article/pii/S2352340918315191\n",
    "\n",
    "Apabila ingin mengetahui keterangan di setiap kolom, Anda bisa akses ke: https://www.kaggle.com/jessemostipak/hotel-booking-demand/data. \n",
    "\n",
    "__Batasan Data untuk Ujian__\n",
    "* __Ukuran data__ yang digunakan adalah **5000 baris (_rows_) awal [:5000]**.\n",
    "* __Variabel__ yang dipakai berjumlah 16 kolom, yaitu: ['hotel', 'is_canceled', 'adults', 'children', 'babies', 'meal', 'country', 'market_segment', 'distribution_channel', 'reserved_room_type', 'booking_changes', 'deposit_type', 'days_in_waiting_list', 'customer_type', 'required_car_parking_spaces', 'total_of_special_requests']\n",
    "\n",
    "## Cleaning and EDA\n",
    "Lakukan data cleaning:\n",
    "1) cek anomali pada data kalian dan perbaiki sesuai kebutuhan.\n",
    "\n",
    "Lakukan EDA, selain untuk menentukan skema preprocessing kalian, jalankan Exploratory Data Analysis untuk:  \n",
    "1) Memahami profil tamu/konsumen hotel (_customer profiling_).  \n",
    "2) Memahami kebiasaan tamu/konsumen hotel (_customer behavior_).  \n",
    "\n",
    "Berikan penjelasan tentang _insight_ yang Anda temukan dari hasil _Exploratory Data Analysis_ ke manajemen hotel!   \n",
    "\n",
    "## Modelling\n",
    "\n",
    "1. Ada **2 jenis kesalahan** yang mungkin terjadi dalam model ML di studi kasus ini, yaitu:\n",
    ">* Model memprediksi user akan *cancel booking* (membatalkan pesanan), padahal sebenarnya/realisasinya user tidak membatalkan pesanan.\n",
    ">* Model memprediksi user tidak membatalkan pesanan, padahal sebenarnya/realisasinya user *cancel booking* (membatalkan pesanan).  \n",
    "\n",
    "Dalam konteks bisnis perhotelan, apabila pengunjung diasumsikan tidak *cancel booking* maka pihak hotel akan menyiapkan beberapa hal untuk menyambut kedatangan mereka, di antaranya:  \n",
    ">* Menghubungi pengunjung terkait kapan perkiraan datang ke hotel,\n",
    ">* Membersihkan, merapikan, dan menyiapkan kamar sesuai pesanan pengunjung,\n",
    ">* Menyiapkan makanan dan minuman untuk menyambut kedatangan pengunjung,\n",
    ">* Menolak pengunjung lain yang memesan kamar yang telah dipesan (*booked room*), dan\n",
    ">* Memberi layanan penjemputan di bandara/stasiun/terminal apabila diperlukan.  \n",
    "\n",
    "a. Pilih jenis kesalahan yang paling berpengaruh pada kerugian finansial perusahaan dan jelaskan alasan pilihan Anda! \n",
    "b. Pilih *evaluation metric* yang bisa menekan jenis kesalahan yang Anda pilih! Berikan alasan!  \n",
    "\n",
    "2.  Pilihlah setidaknya 3 model _machine learning_ yang Anda pahami untuk mendapatkan benchmark model ML untuk memprediksi apakah user akan *cancel booking* atau tidak! \n",
    ">* Jelaskan secara singkat cara kerja model ML yang Anda gunakan!  \n",
    "\n",
    "3.  Setelah Anda memilih _benchmark_ model terbaik, lakukan hyperparameter tunning untuk meningkatkan preforma model Anda! `Parameter` apa saja yang anda pilih untuk `tunning`? Jelaskan maksud dari tiap-tiap parameter tersebut!\n",
    "\n",
    "4. Bagaimana performa model Anda setelah *Hyper-parameter Tuning*? Apakah ada tahap lanjutan yang bisa Anda lakukan untuk meningkatkan performa model lebih jauh? Buat kesimpulan akhir, model mana yang akan Anda pakai untuk memprediksi apakah user akan *cancel booking* atau tidak!  \n",
    "\n",
    "``Good luck & Happy Coding``\n",
    "\n",
    "Apabila sudah selesai, buat repository baru di github kalian dengan nama **Supervised Model** dan _commit_ jawaban kalian ke _repository_ tersebut. Kirimkan link repository kalian ke brigita.gems@gmail.com ."
   ]
  }
 ],
 "metadata": {
  "hide_input": false,
  "kernelspec": {
   "display_name": "Python 3",
   "language": "python",
   "name": "python3"
  },
  "language_info": {
   "codemirror_mode": {
    "name": "ipython",
    "version": 3
   },
   "file_extension": ".py",
   "mimetype": "text/x-python",
   "name": "python",
   "nbconvert_exporter": "python",
   "pygments_lexer": "ipython3",
   "version": "3.8.3"
  },
  "toc": {
   "base_numbering": 1,
   "nav_menu": {},
   "number_sections": true,
   "sideBar": true,
   "skip_h1_title": false,
   "title_cell": "Table of Contents",
   "title_sidebar": "Contents",
   "toc_cell": false,
   "toc_position": {},
   "toc_section_display": true,
   "toc_window_display": false
  }
 },
 "nbformat": 4,
 "nbformat_minor": 4
}
